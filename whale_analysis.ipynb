{
 "cells": [
  {
   "cell_type": "markdown",
   "metadata": {},
   "source": [
    " #  A Whale off the Port(folio)\n",
    "\n",
    " In this assignment, you'll get to use what you've learned this week to evaluate the performance among various algorithmic, hedge, and mutual fund portfolios and compare them against the S&P 500."
   ]
  },
  {
   "cell_type": "code",
   "execution_count": 87,
   "metadata": {},
   "outputs": [],
   "source": [
    "import pandas as pd\n",
    "import numpy as np\n",
    "import datetime as dt\n",
    "from pathlib import Path\n",
    "%matplotlib inline"
   ]
  },
  {
   "cell_type": "markdown",
   "metadata": {},
   "source": [
    "# Data Cleaning\n",
    "\n",
    "In this section, you will need to read the CSV files into DataFrames and perform any necessary data cleaning steps. After cleaning, combine all DataFrames into a single DataFrame.\n",
    "\n",
    "Files:\n",
    "1. whale_returns.csv\n",
    "2. algo_returns.csv\n",
    "3. sp500_history.csv"
   ]
  },
  {
   "cell_type": "markdown",
   "metadata": {},
   "source": [
    "## Whale Returns\n",
    "\n",
    "Read the Whale Portfolio daily returns and clean the data"
   ]
  },
  {
   "cell_type": "code",
   "execution_count": 130,
   "metadata": {},
   "outputs": [
    {
     "output_type": "execute_result",
     "data": {
      "text/plain": "            SOROS FUND MANAGEMENT LLC  PAULSON &amp; CO.INC.   \\\nDate                                                        \n2015-03-02                        NaN                 NaN   \n2015-03-03                  -0.001266           -0.004981   \n2015-03-04                   0.002230            0.003241   \n2015-03-05                   0.004016            0.004076   \n2015-03-06                  -0.007905           -0.003574   \n\n            TIGER GLOBAL MANAGEMENT LLC  BERKSHIRE HATHAWAY INC  \nDate                                                             \n2015-03-02                          NaN                     NaN  \n2015-03-03                    -0.000496               -0.006569  \n2015-03-04                    -0.002534                0.004213  \n2015-03-05                     0.002355                0.006726  \n2015-03-06                    -0.008481               -0.013098  ",
      "text/html": "<div>\n<style scoped>\n    .dataframe tbody tr th:only-of-type {\n        vertical-align: middle;\n    }\n\n    .dataframe tbody tr th {\n        vertical-align: top;\n    }\n\n    .dataframe thead th {\n        text-align: right;\n    }\n</style>\n<table border=\"1\" class=\"dataframe\">\n  <thead>\n    <tr style=\"text-align: right;\">\n      <th></th>\n      <th>SOROS FUND MANAGEMENT LLC</th>\n      <th>PAULSON &amp; CO.INC.</th>\n      <th>TIGER GLOBAL MANAGEMENT LLC</th>\n      <th>BERKSHIRE HATHAWAY INC</th>\n    </tr>\n    <tr>\n      <th>Date</th>\n      <th></th>\n      <th></th>\n      <th></th>\n      <th></th>\n    </tr>\n  </thead>\n  <tbody>\n    <tr>\n      <th>2015-03-02</th>\n      <td>NaN</td>\n      <td>NaN</td>\n      <td>NaN</td>\n      <td>NaN</td>\n    </tr>\n    <tr>\n      <th>2015-03-03</th>\n      <td>-0.001266</td>\n      <td>-0.004981</td>\n      <td>-0.000496</td>\n      <td>-0.006569</td>\n    </tr>\n    <tr>\n      <th>2015-03-04</th>\n      <td>0.002230</td>\n      <td>0.003241</td>\n      <td>-0.002534</td>\n      <td>0.004213</td>\n    </tr>\n    <tr>\n      <th>2015-03-05</th>\n      <td>0.004016</td>\n      <td>0.004076</td>\n      <td>0.002355</td>\n      <td>0.006726</td>\n    </tr>\n    <tr>\n      <th>2015-03-06</th>\n      <td>-0.007905</td>\n      <td>-0.003574</td>\n      <td>-0.008481</td>\n      <td>-0.013098</td>\n    </tr>\n  </tbody>\n</table>\n</div>"
     },
     "metadata": {},
     "execution_count": 130
    }
   ],
   "source": [
    "# Reading whale returns\n",
    "# YOUR CODE HERE\n",
    "whale_returns_csv = Path(\"Resources/whale_returns.csv\")\n",
    "\n",
    "whale_returns_df = pd.read_csv(whale_returns_csv)\n",
    "\n",
    "whale_returns_df.set_index(pd.to_datetime(whale_returns_df['Date'], infer_datetime_format=True), inplace=True)\n",
    "\n",
    "whale_returns_df.drop(columns=['Date'], inplace=True)\n",
    "\n",
    "whale_returns_df.head()"
   ]
  },
  {
   "cell_type": "code",
   "execution_count": 89,
   "metadata": {},
   "outputs": [
    {
     "output_type": "execute_result",
     "data": {
      "text/plain": "Date                           0\nSOROS FUND MANAGEMENT LLC      1\nPAULSON &amp; CO.INC.              1\nTIGER GLOBAL MANAGEMENT LLC    1\nBERKSHIRE HATHAWAY INC         1\ndtype: int64"
     },
     "metadata": {},
     "execution_count": 89
    }
   ],
   "source": [
    "# Count nulls\n",
    "# YOUR CODE HERE\n",
    "whale_returns_df.isnull().sum()"
   ]
  },
  {
   "cell_type": "code",
   "execution_count": 90,
   "metadata": {},
   "outputs": [
    {
     "output_type": "execute_result",
     "data": {
      "text/plain": "Date                           0\nSOROS FUND MANAGEMENT LLC      0\nPAULSON &amp; CO.INC.              0\nTIGER GLOBAL MANAGEMENT LLC    0\nBERKSHIRE HATHAWAY INC         0\ndtype: int64"
     },
     "metadata": {},
     "execution_count": 90
    }
   ],
   "source": [
    "# Drop nulls\n",
    "# YOUR CODE HERE\n",
    "whale_returns_df.dropna(inplace=True)\n",
    "whale_returns_df.isnull().sum()"
   ]
  },
  {
   "cell_type": "markdown",
   "metadata": {},
   "source": [
    "## Algorithmic Daily Returns\n",
    "\n",
    "Read the algorithmic daily returns and clean the data"
   ]
  },
  {
   "cell_type": "code",
   "execution_count": 129,
   "metadata": {},
   "outputs": [
    {
     "output_type": "execute_result",
     "data": {
      "text/plain": "              Algo 1  Algo 2\nDate                        \n2014-05-28  0.001745     NaN\n2014-05-29  0.003978     NaN\n2014-05-30  0.004464     NaN\n2014-06-02  0.005692     NaN\n2014-06-03  0.005292     NaN",
      "text/html": "<div>\n<style scoped>\n    .dataframe tbody tr th:only-of-type {\n        vertical-align: middle;\n    }\n\n    .dataframe tbody tr th {\n        vertical-align: top;\n    }\n\n    .dataframe thead th {\n        text-align: right;\n    }\n</style>\n<table border=\"1\" class=\"dataframe\">\n  <thead>\n    <tr style=\"text-align: right;\">\n      <th></th>\n      <th>Algo 1</th>\n      <th>Algo 2</th>\n    </tr>\n    <tr>\n      <th>Date</th>\n      <th></th>\n      <th></th>\n    </tr>\n  </thead>\n  <tbody>\n    <tr>\n      <th>2014-05-28</th>\n      <td>0.001745</td>\n      <td>NaN</td>\n    </tr>\n    <tr>\n      <th>2014-05-29</th>\n      <td>0.003978</td>\n      <td>NaN</td>\n    </tr>\n    <tr>\n      <th>2014-05-30</th>\n      <td>0.004464</td>\n      <td>NaN</td>\n    </tr>\n    <tr>\n      <th>2014-06-02</th>\n      <td>0.005692</td>\n      <td>NaN</td>\n    </tr>\n    <tr>\n      <th>2014-06-03</th>\n      <td>0.005292</td>\n      <td>NaN</td>\n    </tr>\n  </tbody>\n</table>\n</div>"
     },
     "metadata": {},
     "execution_count": 129
    }
   ],
   "source": [
    "# Reading algorithmic returns\n",
    "# YOUR CODE HERE\n",
    "algo_returns_csv = Path(\"Resources/algo_returns.csv\")\n",
    "\n",
    "algo_returns_df = pd.read_csv(algo_returns_csv)\n",
    "\n",
    "algo_returns_df.set_index(pd.to_datetime(algo_returns_df['Date'], infer_datetime_format=True), inplace=True)\n",
    "\n",
    "algo_returns_df.drop(columns=['Date'], inplace=True)\n",
    "algo_returns_df.head()\n"
   ]
  },
  {
   "cell_type": "code",
   "execution_count": 131,
   "metadata": {},
   "outputs": [
    {
     "output_type": "execute_result",
     "data": {
      "text/plain": "Algo 1    0\nAlgo 2    6\ndtype: int64"
     },
     "metadata": {},
     "execution_count": 131
    }
   ],
   "source": [
    "# Count nulls\n",
    "# YOUR CODE HERE\n",
    "algo_returns_df.isnull().sum()"
   ]
  },
  {
   "cell_type": "code",
   "execution_count": 132,
   "metadata": {},
   "outputs": [
    {
     "output_type": "execute_result",
     "data": {
      "text/plain": "Algo 1    0\nAlgo 2    0\ndtype: int64"
     },
     "metadata": {},
     "execution_count": 132
    }
   ],
   "source": [
    "# Drop nulls\n",
    "# YOUR CODE HERE\n",
    "algo_returns_df.dropna(inplace=True)\n",
    "algo_returns_df.isnull().sum()"
   ]
  },
  {
   "cell_type": "markdown",
   "metadata": {},
   "source": [
    "## S&P 500 Returns\n",
    "\n",
    "Read the S&P500 Historic Closing Prices and create a new daily returns DataFrame from the data. "
   ]
  },
  {
   "cell_type": "code",
   "execution_count": 133,
   "metadata": {},
   "outputs": [
    {
     "output_type": "execute_result",
     "data": {
      "text/plain": "        Date    Close\n0  23-Apr-19  2933.68\n1  22-Apr-19  2907.97\n2  18-Apr-19  2905.03\n3  17-Apr-19  2900.45\n4  16-Apr-19  2907.06",
      "text/html": "<div>\n<style scoped>\n    .dataframe tbody tr th:only-of-type {\n        vertical-align: middle;\n    }\n\n    .dataframe tbody tr th {\n        vertical-align: top;\n    }\n\n    .dataframe thead th {\n        text-align: right;\n    }\n</style>\n<table border=\"1\" class=\"dataframe\">\n  <thead>\n    <tr style=\"text-align: right;\">\n      <th></th>\n      <th>Date</th>\n      <th>Close</th>\n    </tr>\n  </thead>\n  <tbody>\n    <tr>\n      <th>0</th>\n      <td>23-Apr-19</td>\n      <td>2933.68</td>\n    </tr>\n    <tr>\n      <th>1</th>\n      <td>22-Apr-19</td>\n      <td>2907.97</td>\n    </tr>\n    <tr>\n      <th>2</th>\n      <td>18-Apr-19</td>\n      <td>2905.03</td>\n    </tr>\n    <tr>\n      <th>3</th>\n      <td>17-Apr-19</td>\n      <td>2900.45</td>\n    </tr>\n    <tr>\n      <th>4</th>\n      <td>16-Apr-19</td>\n      <td>2907.06</td>\n    </tr>\n  </tbody>\n</table>\n</div>"
     },
     "metadata": {},
     "execution_count": 133
    }
   ],
   "source": [
    "# Reading S&P 500 Closing Prices\n",
    "sp500_history_csv = Path(\"Resources/sp500_history.csv\")\n",
    "# YOUR CODE HERE\n",
    "sp500_history_df = pd.read_csv(sp500_history_csv)\n",
    "sp500_history_df[\"Close\"] = sp500_history_df[\"Close\"].str.replace(\"$\", \"\")\n",
    "\n",
    "sp500_history_df.head()"
   ]
  },
  {
   "cell_type": "code",
   "execution_count": 134,
   "metadata": {},
   "outputs": [
    {
     "output_type": "execute_result",
     "data": {
      "text/plain": "Date     object\nClose    object\ndtype: object"
     },
     "metadata": {},
     "execution_count": 134
    }
   ],
   "source": [
    "# Check Data Types\n",
    "# YOUR CODE HERE\n",
    "sp500_history_df.dtypes"
   ]
  },
  {
   "cell_type": "code",
   "execution_count": 135,
   "metadata": {},
   "outputs": [
    {
     "output_type": "execute_result",
     "data": {
      "text/plain": "Date      object\nClose    float64\ndtype: object"
     },
     "metadata": {},
     "execution_count": 135
    }
   ],
   "source": [
    "# Fix Data Types\n",
    "# YOUR CODE HERE\n",
    "sp500_history_df[\"Close\"] = sp500_history_df[\"Close\"].astype(\"float\")\n",
    "\n",
    "sp500_history_df.dtypes\n"
   ]
  },
  {
   "cell_type": "code",
   "execution_count": 97,
   "metadata": {},
   "outputs": [
    {
     "output_type": "execute_result",
     "data": {
      "text/plain": "               Close\nDate                \n2019-04-23       NaN\n2019-04-22 -0.008764\n2019-04-18 -0.001011\n2019-04-17 -0.001577\n2019-04-16  0.002279",
      "text/html": "<div>\n<style scoped>\n    .dataframe tbody tr th:only-of-type {\n        vertical-align: middle;\n    }\n\n    .dataframe tbody tr th {\n        vertical-align: top;\n    }\n\n    .dataframe thead th {\n        text-align: right;\n    }\n</style>\n<table border=\"1\" class=\"dataframe\">\n  <thead>\n    <tr style=\"text-align: right;\">\n      <th></th>\n      <th>Close</th>\n    </tr>\n    <tr>\n      <th>Date</th>\n      <th></th>\n    </tr>\n  </thead>\n  <tbody>\n    <tr>\n      <th>2019-04-23</th>\n      <td>NaN</td>\n    </tr>\n    <tr>\n      <th>2019-04-22</th>\n      <td>-0.008764</td>\n    </tr>\n    <tr>\n      <th>2019-04-18</th>\n      <td>-0.001011</td>\n    </tr>\n    <tr>\n      <th>2019-04-17</th>\n      <td>-0.001577</td>\n    </tr>\n    <tr>\n      <th>2019-04-16</th>\n      <td>0.002279</td>\n    </tr>\n  </tbody>\n</table>\n</div>"
     },
     "metadata": {},
     "execution_count": 97
    }
   ],
   "source": [
    "# Calculate Daily Returns\n",
    "# YOUR CODE HERE\n",
    "sp500_history_df.set_index(pd.to_datetime(sp500_history_df['Date'], infer_datetime_format=True), inplace=True)\n",
    "\n",
    "sp500_history_df.drop(columns=['Date'], inplace=True)\n",
    "sp500_history_df.head()\n",
    "\n",
    "sp500_daily_return = (sp500_history_df - sp500_history_df.shift(1)) / sp500_history_df.shift(1)\n",
    "\n",
    "sp500_daily_return.head()\n"
   ]
  },
  {
   "cell_type": "code",
   "execution_count": 136,
   "metadata": {},
   "outputs": [
    {
     "output_type": "execute_result",
     "data": {
      "text/plain": "             S&amp;P 500\nDate                \n2019-04-22 -0.008764\n2019-04-18 -0.001011\n2019-04-17 -0.001577\n2019-04-16  0.002279\n2019-04-15 -0.000509",
      "text/html": "<div>\n<style scoped>\n    .dataframe tbody tr th:only-of-type {\n        vertical-align: middle;\n    }\n\n    .dataframe tbody tr th {\n        vertical-align: top;\n    }\n\n    .dataframe thead th {\n        text-align: right;\n    }\n</style>\n<table border=\"1\" class=\"dataframe\">\n  <thead>\n    <tr style=\"text-align: right;\">\n      <th></th>\n      <th>S&amp;P 500</th>\n    </tr>\n    <tr>\n      <th>Date</th>\n      <th></th>\n    </tr>\n  </thead>\n  <tbody>\n    <tr>\n      <th>2019-04-22</th>\n      <td>-0.008764</td>\n    </tr>\n    <tr>\n      <th>2019-04-18</th>\n      <td>-0.001011</td>\n    </tr>\n    <tr>\n      <th>2019-04-17</th>\n      <td>-0.001577</td>\n    </tr>\n    <tr>\n      <th>2019-04-16</th>\n      <td>0.002279</td>\n    </tr>\n    <tr>\n      <th>2019-04-15</th>\n      <td>-0.000509</td>\n    </tr>\n  </tbody>\n</table>\n</div>"
     },
     "metadata": {},
     "execution_count": 136
    }
   ],
   "source": [
    "# Drop nulls\n",
    "# YOUR CODE HERE\n",
    "sp500_daily_return.dropna(inplace=True)\n",
    "sp500_daily_return.head()"
   ]
  },
  {
   "cell_type": "code",
   "execution_count": 137,
   "metadata": {},
   "outputs": [
    {
     "output_type": "execute_result",
     "data": {
      "text/plain": "             S&amp;P 500\nDate                \n2019-04-22 -0.008764\n2019-04-18 -0.001011\n2019-04-17 -0.001577\n2019-04-16  0.002279\n2019-04-15 -0.000509",
      "text/html": "<div>\n<style scoped>\n    .dataframe tbody tr th:only-of-type {\n        vertical-align: middle;\n    }\n\n    .dataframe tbody tr th {\n        vertical-align: top;\n    }\n\n    .dataframe thead th {\n        text-align: right;\n    }\n</style>\n<table border=\"1\" class=\"dataframe\">\n  <thead>\n    <tr style=\"text-align: right;\">\n      <th></th>\n      <th>S&amp;P 500</th>\n    </tr>\n    <tr>\n      <th>Date</th>\n      <th></th>\n    </tr>\n  </thead>\n  <tbody>\n    <tr>\n      <th>2019-04-22</th>\n      <td>-0.008764</td>\n    </tr>\n    <tr>\n      <th>2019-04-18</th>\n      <td>-0.001011</td>\n    </tr>\n    <tr>\n      <th>2019-04-17</th>\n      <td>-0.001577</td>\n    </tr>\n    <tr>\n      <th>2019-04-16</th>\n      <td>0.002279</td>\n    </tr>\n    <tr>\n      <th>2019-04-15</th>\n      <td>-0.000509</td>\n    </tr>\n  </tbody>\n</table>\n</div>"
     },
     "metadata": {},
     "execution_count": 137
    }
   ],
   "source": [
    "# Rename Column\n",
    "# YOUR CODE HERE\n",
    "sp500_daily_return = sp500_daily_return.rename(columns={\"Close\" : \"S&P 500\"})\n",
    "sp500_daily_return.head()"
   ]
  },
  {
   "cell_type": "markdown",
   "metadata": {},
   "source": [
    "## Combine Whale, Algorithmic, and S&P 500 Returns"
   ]
  },
  {
   "cell_type": "code",
   "execution_count": 139,
   "metadata": {},
   "outputs": [
    {
     "output_type": "execute_result",
     "data": {
      "text/plain": "            SOROS FUND MANAGEMENT LLC  PAULSON &amp; CO.INC.   \\\nDate                                                        \n2015-03-03                  -0.001266           -0.004981   \n2015-03-04                   0.002230            0.003241   \n2015-03-05                   0.004016            0.004076   \n2015-03-06                  -0.007905           -0.003574   \n2015-03-09                   0.000582            0.004225   \n\n            TIGER GLOBAL MANAGEMENT LLC  BERKSHIRE HATHAWAY INC    Algo 1  \\\nDate                                                                        \n2015-03-03                    -0.000496               -0.006569 -0.001942   \n2015-03-04                    -0.002534                0.004213 -0.008589   \n2015-03-05                     0.002355                0.006726 -0.000955   \n2015-03-06                    -0.008481               -0.013098 -0.004957   \n2015-03-09                     0.005843               -0.001652 -0.005447   \n\n              Algo 2   S&amp;P 500  \nDate                            \n2015-03-03 -0.000949  0.004408  \n2015-03-04  0.002416 -0.001195  \n2015-03-05  0.004323  0.014378  \n2015-03-06 -0.011460 -0.003929  \n2015-03-09  0.001303  0.017254  ",
      "text/html": "<div>\n<style scoped>\n    .dataframe tbody tr th:only-of-type {\n        vertical-align: middle;\n    }\n\n    .dataframe tbody tr th {\n        vertical-align: top;\n    }\n\n    .dataframe thead th {\n        text-align: right;\n    }\n</style>\n<table border=\"1\" class=\"dataframe\">\n  <thead>\n    <tr style=\"text-align: right;\">\n      <th></th>\n      <th>SOROS FUND MANAGEMENT LLC</th>\n      <th>PAULSON &amp; CO.INC.</th>\n      <th>TIGER GLOBAL MANAGEMENT LLC</th>\n      <th>BERKSHIRE HATHAWAY INC</th>\n      <th>Algo 1</th>\n      <th>Algo 2</th>\n      <th>S&amp;P 500</th>\n    </tr>\n    <tr>\n      <th>Date</th>\n      <th></th>\n      <th></th>\n      <th></th>\n      <th></th>\n      <th></th>\n      <th></th>\n      <th></th>\n    </tr>\n  </thead>\n  <tbody>\n    <tr>\n      <th>2015-03-03</th>\n      <td>-0.001266</td>\n      <td>-0.004981</td>\n      <td>-0.000496</td>\n      <td>-0.006569</td>\n      <td>-0.001942</td>\n      <td>-0.000949</td>\n      <td>0.004408</td>\n    </tr>\n    <tr>\n      <th>2015-03-04</th>\n      <td>0.002230</td>\n      <td>0.003241</td>\n      <td>-0.002534</td>\n      <td>0.004213</td>\n      <td>-0.008589</td>\n      <td>0.002416</td>\n      <td>-0.001195</td>\n    </tr>\n    <tr>\n      <th>2015-03-05</th>\n      <td>0.004016</td>\n      <td>0.004076</td>\n      <td>0.002355</td>\n      <td>0.006726</td>\n      <td>-0.000955</td>\n      <td>0.004323</td>\n      <td>0.014378</td>\n    </tr>\n    <tr>\n      <th>2015-03-06</th>\n      <td>-0.007905</td>\n      <td>-0.003574</td>\n      <td>-0.008481</td>\n      <td>-0.013098</td>\n      <td>-0.004957</td>\n      <td>-0.011460</td>\n      <td>-0.003929</td>\n    </tr>\n    <tr>\n      <th>2015-03-09</th>\n      <td>0.000582</td>\n      <td>0.004225</td>\n      <td>0.005843</td>\n      <td>-0.001652</td>\n      <td>-0.005447</td>\n      <td>0.001303</td>\n      <td>0.017254</td>\n    </tr>\n  </tbody>\n</table>\n</div>"
     },
     "metadata": {},
     "execution_count": 139
    }
   ],
   "source": [
    "# Concatenate all DataFrames into a single DataFrame\n",
    "# YOUR CODE HERE\n",
    "Compbined_returns_df = pd.concat([whale_returns_df, algo_returns_df, sp500_daily_return], axis='columns', join='inner')\n",
    "Compbined_returns_df.dropna(inplace=True)\n",
    "Compbined_returns_df.head()"
   ]
  },
  {
   "cell_type": "markdown",
   "metadata": {},
   "source": [
    "---"
   ]
  },
  {
   "cell_type": "markdown",
   "metadata": {},
   "source": [
    "# Portfolio Analysis\n",
    "\n",
    "In this section, you will calculate and visualize performance and risk metrics for the portfolios."
   ]
  },
  {
   "cell_type": "markdown",
   "metadata": {},
   "source": [
    "## Performance\n",
    "\n",
    "Calculate and Plot the daily returns and cumulative returns. Does any portfolio outperform the S&P 500? "
   ]
  },
  {
   "cell_type": "code",
   "execution_count": 101,
   "metadata": {},
   "outputs": [],
   "source": [
    "# Plot daily returns\n",
    "# YOUR CODE HERE"
   ]
  },
  {
   "cell_type": "code",
   "execution_count": 102,
   "metadata": {},
   "outputs": [],
   "source": [
    "# Plot cumulative returns\n",
    "# YOUR CODE HERE"
   ]
  },
  {
   "cell_type": "markdown",
   "metadata": {},
   "source": [
    "## Risk\n",
    "\n",
    "Determine the _risk_ of each portfolio:\n",
    "\n",
    "1. Create a box plot for each portfolio. \n",
    "2. Calculate the standard deviation for all portfolios\n",
    "4. Determine which portfolios are riskier than the S&P 500\n",
    "5. Calculate the Annualized Standard Deviation"
   ]
  },
  {
   "cell_type": "code",
   "execution_count": 103,
   "metadata": {},
   "outputs": [],
   "source": [
    "# Box plot to visually show risk\n",
    "# YOUR CODE HERE"
   ]
  },
  {
   "cell_type": "code",
   "execution_count": 104,
   "metadata": {},
   "outputs": [],
   "source": [
    "# Daily Standard Deviations\n",
    "# Calculate the standard deviation for each portfolio. \n",
    "# Which portfolios are riskier than the S&P 500?\n",
    "# YOUR CODE HERE"
   ]
  },
  {
   "cell_type": "code",
   "execution_count": 105,
   "metadata": {},
   "outputs": [],
   "source": [
    "# Determine which portfolios are riskier than the S&P 500\n",
    "# YOUR CODE HERE"
   ]
  },
  {
   "cell_type": "code",
   "execution_count": 106,
   "metadata": {},
   "outputs": [],
   "source": [
    "# Calculate the annualized standard deviation (252 trading days)\n",
    "# YOUR CODE HERE"
   ]
  },
  {
   "cell_type": "markdown",
   "metadata": {},
   "source": [
    "---"
   ]
  },
  {
   "cell_type": "markdown",
   "metadata": {},
   "source": [
    "## Rolling Statistics\n",
    "\n",
    "Risk changes over time. Analyze the rolling statistics for Risk and Beta. \n",
    "\n",
    "1. Plot the rolling standard deviation of the various portfolios along with the rolling standard deviation of the S&P 500 (consider a 21 day window). Does the risk increase for each of the portfolios at the same time risk increases in the S&P?\n",
    "2. Construct a correlation table for the algorithmic, whale, and S&P 500 returns. Which returns most closely mimic the S&P?\n",
    "3. Choose one portfolio and plot a rolling beta between that portfolio's returns and S&P 500 returns. Does the portfolio seem sensitive to movements in the S&P 500?\n",
    "4. An alternative way to calculate a rolling window is to take the exponentially weighted moving average. This is like a moving window average, but it assigns greater importance to more recent observations. Try calculating the ewm with a 21 day half-life."
   ]
  },
  {
   "cell_type": "code",
   "execution_count": 107,
   "metadata": {},
   "outputs": [],
   "source": [
    "# Calculate and plot the rolling standard deviation for\n",
    "# the S&P 500 and whale portfolios using a 21 trading day window\n",
    "# YOUR CODE HERE"
   ]
  },
  {
   "cell_type": "code",
   "execution_count": 108,
   "metadata": {},
   "outputs": [],
   "source": [
    "# Construct a correlation table\n",
    "# YOUR CODE HERE"
   ]
  },
  {
   "cell_type": "code",
   "execution_count": 109,
   "metadata": {},
   "outputs": [],
   "source": [
    "# Calculate Beta for a single portfolio compared to the total market (S&P 500)\n",
    "# (Your graph may differ, dependent upon which portfolio you are comparing)\n",
    "# YOUR CODE HERE"
   ]
  },
  {
   "cell_type": "code",
   "execution_count": 110,
   "metadata": {},
   "outputs": [],
   "source": [
    "# Calculate a rolling window using the exponentially weighted moving average. \n",
    "# YOUR CODE HERE"
   ]
  },
  {
   "cell_type": "markdown",
   "metadata": {},
   "source": [
    "---"
   ]
  },
  {
   "cell_type": "markdown",
   "metadata": {},
   "source": [
    "## Sharpe Ratios\n",
    "In reality, investment managers and thier institutional investors look at the ratio of return-to-risk, and not just returns alone. (After all, if you could invest in one of two portfolios, each offered the same 10% return, yet one offered lower risk, you'd take that one, right?)\n",
    "\n",
    "1. Using the daily returns, calculate and visualize the Sharpe ratios using a bar plot.\n",
    "2. Determine whether the algorithmic strategies outperform both the market (S&P 500) and the whales portfolios."
   ]
  },
  {
   "cell_type": "code",
   "execution_count": 111,
   "metadata": {},
   "outputs": [],
   "source": [
    "# Calculate annualized Sharpe Ratios\n",
    "# YOUR CODE HERE"
   ]
  },
  {
   "cell_type": "code",
   "execution_count": 112,
   "metadata": {},
   "outputs": [],
   "source": [
    "# Visualize the sharpe ratios as a bar plot\n",
    "# YOUR CODE HERE"
   ]
  },
  {
   "cell_type": "markdown",
   "metadata": {},
   "source": [
    "On the basis of this performance metric, do our algo strategies outperform both 'the market' and the whales? Type your answer here:"
   ]
  },
  {
   "cell_type": "markdown",
   "metadata": {},
   "source": [
    "---"
   ]
  },
  {
   "cell_type": "markdown",
   "metadata": {},
   "source": [
    "# Portfolio Returns\n",
    "\n",
    "In this section, you will build your own portfolio of stocks, calculate the returns, and compare the results to the Whale Portfolios and the S&P 500. \n",
    "\n",
    "1. Visit [Google Sheets](https://docs.google.com/spreadsheets/) and use the in-built Google Finance function to choose 3-5 stocks for your own portfolio.\n",
    "2. Download the data as CSV files and calculate the portfolio returns.\n",
    "3. Calculate the returns for each stock.\n",
    "4. Using those returns, calculate the weighted returns for your entire portfolio assuming an equal number of shares for each stock.\n",
    "5. Add your portfolio returns to the DataFrame with the other portfolios and rerun the analysis. How does your portfolio fair?\n",
    "\n",
    "\n",
    "## Your analysis should include the following:\n",
    "\n",
    "- Using all portfolios:\n",
    " - The annualized standard deviation (252 trading days) for all portfolios.\n",
    " - The plotted rolling standard deviation using a 21 trading day window for all portfolios.\n",
    " - The calculated annualized Sharpe Ratios and the accompanying bar plot visualization.\n",
    " - A correlation table.\n",
    "- Using your custom portfolio and one other of your choosing:\n",
    " - The plotted beta. "
   ]
  },
  {
   "cell_type": "markdown",
   "metadata": {},
   "source": [
    "## Choose 3-5 custom stocks with at last 1 year's worth of historic prices and create a DataFrame of the closing prices and dates for each stock."
   ]
  },
  {
   "cell_type": "code",
   "execution_count": 113,
   "metadata": {},
   "outputs": [],
   "source": [
    "# Read the first stock\n",
    "# YOUR CODE HERE"
   ]
  },
  {
   "cell_type": "code",
   "execution_count": 114,
   "metadata": {},
   "outputs": [],
   "source": [
    "# Read the second stock\n",
    "# YOUR CODE HERE"
   ]
  },
  {
   "cell_type": "code",
   "execution_count": 115,
   "metadata": {},
   "outputs": [],
   "source": [
    "# Read the third stock\n",
    "# YOUR CODE HERE"
   ]
  },
  {
   "cell_type": "code",
   "execution_count": 116,
   "metadata": {},
   "outputs": [],
   "source": [
    "# Concatenate all stocks into a single DataFrame\n",
    "# YOUR CODE HERE"
   ]
  },
  {
   "cell_type": "code",
   "execution_count": 117,
   "metadata": {},
   "outputs": [],
   "source": [
    "# Reset the index\n",
    "# YOUR CODE HERE"
   ]
  },
  {
   "cell_type": "code",
   "execution_count": 118,
   "metadata": {},
   "outputs": [],
   "source": [
    "# Pivot so that each column of prices represents a unique symbol\n",
    "# YOUR CODE HERE"
   ]
  },
  {
   "cell_type": "code",
   "execution_count": 119,
   "metadata": {},
   "outputs": [],
   "source": [
    "# Drop Nulls\n",
    "# YOUR CODE HERE"
   ]
  },
  {
   "cell_type": "markdown",
   "metadata": {},
   "source": [
    "## Calculate the weighted returns for the portfolio assuming an equal number of shares for each stock"
   ]
  },
  {
   "cell_type": "code",
   "execution_count": 120,
   "metadata": {},
   "outputs": [],
   "source": [
    "# Calculate weighted portfolio returns\n",
    "weights = [1/3, 1/3, 1/3]\n",
    "# YOUR CODE HERE"
   ]
  },
  {
   "cell_type": "markdown",
   "metadata": {},
   "source": [
    "## Join your portfolio returns to the DataFrame that contains all of the portfolio returns"
   ]
  },
  {
   "cell_type": "code",
   "execution_count": 121,
   "metadata": {
    "scrolled": true
   },
   "outputs": [],
   "source": [
    "# Add your \"Custom\" portfolio to the larger dataframe of fund returns\n",
    "# YOUR CODE HERE"
   ]
  },
  {
   "cell_type": "code",
   "execution_count": 122,
   "metadata": {},
   "outputs": [],
   "source": [
    "# Only compare dates where return data exists for all the stocks (drop NaNs)\n",
    "# YOUR CODE HERE"
   ]
  },
  {
   "cell_type": "markdown",
   "metadata": {},
   "source": [
    "## Re-run the performance and risk analysis with your portfolio to see how it compares to the others"
   ]
  },
  {
   "cell_type": "code",
   "execution_count": 123,
   "metadata": {},
   "outputs": [],
   "source": [
    "# Risk\n",
    "# YOUR CODE HERE"
   ]
  },
  {
   "cell_type": "code",
   "execution_count": 124,
   "metadata": {},
   "outputs": [],
   "source": [
    "# Rolling\n",
    "# YOUR CODE HERE"
   ]
  },
  {
   "cell_type": "code",
   "execution_count": 125,
   "metadata": {},
   "outputs": [],
   "source": [
    "# Annualized Sharpe Ratios\n",
    "# YOUR CODE HERE"
   ]
  },
  {
   "cell_type": "code",
   "execution_count": 126,
   "metadata": {},
   "outputs": [],
   "source": [
    "# Visualize the sharpe ratios as a bar plot\n",
    "# YOUR CODE HERE"
   ]
  },
  {
   "cell_type": "code",
   "execution_count": 127,
   "metadata": {},
   "outputs": [],
   "source": [
    "# Create a correlation analysis\n",
    "# YOUR CODE HERE"
   ]
  },
  {
   "cell_type": "code",
   "execution_count": 128,
   "metadata": {},
   "outputs": [],
   "source": [
    "# Beta\n",
    "# YOUR CODE HERE"
   ]
  }
 ],
 "metadata": {
  "file_extension": ".py",
  "kernelspec": {
   "display_name": "Python 3",
   "language": "python",
   "name": "python3"
  },
  "language_info": {
   "codemirror_mode": {
    "name": "ipython",
    "version": 3
   },
   "file_extension": ".py",
   "mimetype": "text/x-python",
   "name": "python",
   "nbconvert_exporter": "python",
   "pygments_lexer": "ipython3",
   "version": "3.8.3-final"
  },
  "mimetype": "text/x-python",
  "name": "python",
  "npconvert_exporter": "python",
  "pygments_lexer": "ipython3",
  "version": 3
 },
 "nbformat": 4,
 "nbformat_minor": 4
}